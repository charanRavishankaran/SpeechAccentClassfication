{
 "cells": [
  {
   "cell_type": "markdown",
   "metadata": {},
   "source": [
    "# Accent classification - Russian and English"
   ]
  },
  {
   "cell_type": "code",
   "execution_count": 100,
   "metadata": {},
   "outputs": [],
   "source": [
    "#Import all the required packages \n",
    "# here we will use 3 classifiers (SVC, Naive bayes and random forest) and measure there acccuracy\n",
    "\n",
    "import os\n",
    "import pandas as pd\n",
    "import numpy as np\n",
    "import librosa\n",
    "from sklearn.preprocessing import LabelEncoder\n",
    "from pyAudioAnalysis import audioFeatureExtraction\n",
    "from sklearn.svm import SVC\n",
    "from sklearn import tree\n",
    "from sklearn.ensemble import RandomForestClassifier\n",
    "from sklearn.naive_bayes import GaussianNB\n",
    "from sklearn.metrics import accuracy_score\n",
    "from sklearn.metrics import confusion_matrix \n",
    "from sklearn.metrics import classification_report \n",
    "from sklearn.model_selection import train_test_split\n",
    "import csv"
   ]
  },
  {
   "cell_type": "code",
   "execution_count": 2,
   "metadata": {},
   "outputs": [],
   "source": [
    "#Change your directory to project folder \n",
    "directory = 'E:/stdies/Data Science/q2/speech processing/project/Accent classification'\n",
    " "
   ]
  },
  {
   "cell_type": "code",
   "execution_count": 3,
   "metadata": {},
   "outputs": [],
   "source": [
    "#creating header for the dataset\n",
    "header = 'filename '\n",
    "for i in range(1, 14):\n",
    "    header += f' mfcc{i}' # creating 13 MFCCs column headers\n",
    "header += ' label'\n",
    "header = header.split()"
   ]
  },
  {
   "cell_type": "markdown",
   "metadata": {},
   "source": [
    "When extracting features from a speech or sound use .WAV format"
   ]
  },
  {
   "cell_type": "markdown",
   "metadata": {},
   "source": [
    "If you have voices / sounds in .MP3 format you convert that using this code below\n",
    "\n",
    "from os import path\n",
    "from pydub import AudioSegment\n",
    "\n",
    "def convertMP3toWAV():\n",
    "    print(\"Start\")\n",
    "    directory = 'Path/to/your/project' #change path to project folder\n",
    "    pa=directory+'/raw/'\n",
    "    print(pa)\n",
    "    for wav_file in os.listdir(pa):\n",
    "        print(wav_file)\n",
    "        f=wav_file[:-4]\n",
    "        dst=f+\".wav\"\n",
    "        print(dst)\n",
    "        sound = AudioSegment.from_mp3(pa+wav_file)\n",
    "        sound.export(pa+dst, format=\"wav\")\n",
    "        print(\"successfully completed\")\n",
    "\n",
    "convertMP3toWAV()\n",
    "\n",
    "Note: make sure you have all the packages installed for this\n",
    "\n",
    "\n",
    "\n"
   ]
  },
  {
   "cell_type": "code",
   "execution_count": 30,
   "metadata": {},
   "outputs": [],
   "source": [
    "# #processing the voice in the directory and extracting the 13th order MFCCs using librosa.\n",
    "# #Praat and opensmile can also be used\n",
    "# # file = open('data.csv', 'w', newline='')\n",
    "# with file:\n",
    "#     writer = csv.writer(file)\n",
    "#     writer.writerow(header)\n",
    "# audio_path = directory+'/wav/' # path to the wav files \n",
    "# for wav_file in os.listdir(directory+'/wav/'):\n",
    "#     print(\"starting file \",wav_file)\n",
    "#     s = wav_file\n",
    "#     s = s[:-4]\n",
    "#     name_lable = ''.join([i for i in s if not i.isdigit()]) #taking the label for the voice \n",
    "#     y, sr = librosa.load(audio_path+wav_file, mono=True, duration=30) # loading the wav files in librosa by taking only 30 seconds\n",
    "#     librosa.load(audio_path+wav_file, sr=44100) # resampling the frequency of the files to get similar datas\n",
    "#     mfcc = librosa.feature.mfcc(y=y, sr=sr,n_mfcc=13) # extracting 13 coefficents from MFCCs\n",
    "#     to_append = f'{wav_file}'    \n",
    "#     for e in mfcc:\n",
    "#         to_append += f' {np.mean(e)}' \n",
    "#     to_append += f' {name_lable}'\n",
    "#     file = open('data.csv', 'a', newline='')\n",
    "#     with file:\n",
    "#         writer = csv.writer(file)\n",
    "#         writer.writerow(to_append.split())\n",
    "#     print(\"ending file \",wav_file)\n",
    "# print(\"Done\")"
   ]
  },
  {
   "cell_type": "code",
   "execution_count": 43,
   "metadata": {},
   "outputs": [
    {
     "name": "stdout",
     "output_type": "stream",
     "text": [
      "Importing CSV....\n",
      "Done..\n"
     ]
    }
   ],
   "source": [
    "print('Importing CSV....')\n",
    "data=pd.read_csv(directory + '/data1.csv', low_memory=False)\n",
    "\n",
    "X = data[['mfcc1', 'mfcc2', 'mfcc3', 'mfcc4', 'mfcc5', 'mfcc6', 'mfcc7', 'mfcc8', 'mfcc9', 'mfcc10', 'mfcc11', 'mfcc12', 'mfcc13']].values\n",
    "y = data['label'].values\n",
    "\n",
    "#print(y)\n",
    "\n",
    "del(data)\n",
    "\n",
    "print('Done..')"
   ]
  },
  {
   "cell_type": "code",
   "execution_count": 95,
   "metadata": {},
   "outputs": [
    {
     "name": "stdout",
     "output_type": "stream",
     "text": [
      "Splitting the dataset into the Training set and Test set\n",
      "Done..\n"
     ]
    }
   ],
   "source": [
    "labelencoder_y = LabelEncoder()\n",
    "y = labelencoder_y.fit_transform(y.ravel())\n",
    "\n",
    "#print(y) \n",
    "#0 is English , 1 is russian\n",
    "\n",
    "print('Splitting the dataset into the Training set and Test set')\n",
    "\n",
    "X_train, X_test, y_train, y_test = train_test_split(X, y, test_size = 0.32, random_state =1 , shuffle=True)\n",
    "#print(\"x train \",X_train)\n",
    "#print(\"y train \",y_train)\n",
    "#print(\"X test \",X_test)\n",
    "#print(\"y test \",y_test)\n",
    "print('Done..')"
   ]
  },
  {
   "cell_type": "code",
   "execution_count": 96,
   "metadata": {},
   "outputs": [
    {
     "name": "stdout",
     "output_type": "stream",
     "text": [
      "Fitting Kernel SVM to the Training set\n",
      "0 - Russian, 1 - English\n",
      "\n",
      "Test labels -  [0 1 1 0 0 1 1 1 1 0 1 1 1 1 1 0 1 1 1 0 0 0 1 1 1 1 0 0 0 0 0 0 1 0 0 1 0\n",
      " 0 1 0 0 0 0 0 0 1 1 1 0 1 0 1 0 1 0 0 1 0 0 0 1 1 1 0 1 0 0 0 1 1 0 0 0 1\n",
      " 1 0 1 0 0 0 0 0 1 1 0 0 0 0 1 1 0 1 0 0 0 0 0 0 1 1 0 1 1]\n",
      "Predicted Value -  [1 1 0 0 0 0 0 1 1 0 1 1 0 1 1 0 0 1 1 1 0 0 0 1 1 0 0 0 0 0 1 0 0 0 1 1 1\n",
      " 0 0 0 0 0 1 0 0 1 1 1 1 0 0 1 0 0 0 1 0 1 1 1 0 0 1 1 1 0 1 0 0 1 0 0 1 1\n",
      " 1 0 1 0 0 0 0 1 0 0 0 0 1 0 1 1 1 0 0 1 0 0 0 1 1 0 0 0 1]\n",
      "Score =  0.7327188940092166\n"
     ]
    }
   ],
   "source": [
    "print('Fitting Kernel SVM to the Training set')\n",
    "\n",
    "classifier = SVC(C=0.01,kernel='linear',gamma=0.3, random_state =1, max_iter=100000)\n",
    "classifier.fit(X_train, y_train)\n",
    "#x = np.array(tdata)\n",
    "#values_new = np.reshape(x, (1, -1))\n",
    "print(\"0 - Russian, 1 - English\\n\")\n",
    "print(\"Test labels - \",y_test)\n",
    "pred = classifier.predict(X_test)\n",
    "print(\"Predicted Value - \",pred)\n",
    "SVCscore = classifier.score(X_test,y_test)\n",
    "\n",
    "SVCscoretr = classifier.score(X_train,y_train)\n",
    "print('Score = ',SVCscoretr)"
   ]
  },
  {
   "cell_type": "code",
   "execution_count": 97,
   "metadata": {},
   "outputs": [
    {
     "name": "stdout",
     "output_type": "stream",
     "text": [
      "Test labels -  [0 1 1 0 0 1 1 1 1 0 1 1 1 1 1 0 1 1 1 0 0 0 1 1 1 1 0 0 0 0 0 0 1 0 0 1 0\n",
      " 0 1 0 0 0 0 0 0 1 1 1 0 1 0 1 0 1 0 0 1 0 0 0 1 1 1 0 1 0 0 0 1 1 0 0 0 1\n",
      " 1 0 1 0 0 0 0 0 1 1 0 0 0 0 1 1 0 1 0 0 0 0 0 0 1 1 0 1 1]\n",
      "Predicted Value -  [0 1 0 0 0 1 0 1 1 0 1 1 1 1 1 0 0 1 1 0 0 0 1 1 0 1 1 0 0 0 0 0 0 0 0 1 0\n",
      " 0 1 0 0 0 0 0 0 1 1 1 0 0 0 1 0 0 0 0 1 1 0 0 0 1 1 0 1 0 0 0 0 1 0 0 0 0\n",
      " 1 0 1 0 0 0 0 0 0 0 0 0 0 1 1 1 0 0 0 0 0 0 0 0 1 1 0 0 1]\n",
      "Score =  1.0\n"
     ]
    }
   ],
   "source": [
    "# Random forest \n",
    "rfc_clf = RandomForestClassifier(n_estimators=100, bootstrap = True, max_features = 'sqrt')\n",
    "rfc_clf.fit(X_train, y_train)\n",
    "rfc_prediction = rfc_clf.predict(X_test)\n",
    "print(\"Test labels - \",y_test)\n",
    "print (\"Predicted Value - \",rfc_prediction)\n",
    "RFscore = rfc_clf.score(X_test,y_test)\n",
    "#print('Score = ',RFscore)\n",
    "RFscoretr = rfc_clf.score(X_train,y_train)\n",
    "print('Score = ',RFscoretr)\n",
    "\n",
    "\n"
   ]
  },
  {
   "cell_type": "code",
   "execution_count": 98,
   "metadata": {},
   "outputs": [
    {
     "name": "stdout",
     "output_type": "stream",
     "text": [
      "Test labels -  [0 1 1 0 0 1 1 1 1 0 1 1 1 1 1 0 1 1 1 0 0 0 1 1 1 1 0 0 0 0 0 0 1 0 0 1 0\n",
      " 0 1 0 0 0 0 0 0 1 1 1 0 1 0 1 0 1 0 0 1 0 0 0 1 1 1 0 1 0 0 0 1 1 0 0 0 1\n",
      " 1 0 1 0 0 0 0 0 1 1 0 0 0 0 1 1 0 1 0 0 0 0 0 0 1 1 0 1 1]\n",
      "Predicted Value -  [1 1 1 1 1 1 1 1 1 1 1 1 0 1 0 1 1 1 1 1 0 1 1 1 0 1 1 1 1 1 1 1 0 1 1 1 0\n",
      " 0 1 1 0 1 1 1 1 1 1 1 1 1 1 1 1 1 1 1 1 0 1 1 0 1 1 0 1 0 0 1 1 0 1 1 1 0\n",
      " 1 0 1 1 1 1 0 1 0 1 1 1 0 1 1 1 0 1 1 1 1 0 1 0 1 1 1 0 1]\n",
      "Score =  0.5576036866359447\n"
     ]
    }
   ],
   "source": [
    "# Naive Bayes Classifier \n",
    "classifierNB = GaussianNB()\n",
    "classifierNB.fit(X_train, y_train)\n",
    "gpred = classifierNB.predict(X_test)\n",
    "print(\"Test labels - \",y_test)\n",
    "print (\"Predicted Value - \",gpred)\n",
    "NBscore = classifierNB.score(X_test,y_test)\n",
    "#print('Score = ',NBscore)\n",
    "Bscoretr = classifierNB.score(X_train,y_train)\n",
    "print('Score = ',Bscoretr)"
   ]
  },
  {
   "cell_type": "code",
   "execution_count": 99,
   "metadata": {},
   "outputs": [
    {
     "name": "stdout",
     "output_type": "stream",
     "text": [
      "[0.62135922 0.83495146 0.49514563]\n",
      "Random forest is the best classifier for this problem\n"
     ]
    }
   ],
   "source": [
    "#finding the best classifier for this problem\n",
    "\n",
    "classifiers_score = ['SVM', 'Random forest' , 'Naive Bayes']\n",
    "accuracy_score = np.array([SVCscore, RFscore, NBscore])\n",
    "print(accuracy_score)\n",
    "max_acc = np.argmax(accuracy_score)\n",
    "print(classifiers_score[max_acc] + ' is the best classifier for this problem')\n"
   ]
  },
  {
   "cell_type": "code",
   "execution_count": null,
   "metadata": {},
   "outputs": [],
   "source": []
  },
  {
   "cell_type": "code",
   "execution_count": 29,
   "metadata": {},
   "outputs": [],
   "source": [
    "# file = open('data.csv', 'w', newline='')\n",
    "# with file:\n",
    "#     writer = csv.writer(file)\n",
    "#     writer.writerow(header)\n",
    "# audio_path = directory+'/separate_words/' # path to the wav files \n",
    "# for wav_file in os.listdir(directory+'/separate_words/'):\n",
    "#     print(\"starting file \",wav_file)\n",
    "#     s = wav_file\n",
    "#     s = s[:-4]\n",
    "#     name_lable = ''.join([i for i in s if not i.isdigit()]) #taking the label for the voice \n",
    "#     y, sr = librosa.load(audio_path+wav_file, mono=True, duration=30) # loading the wav files in librosa by taking only 30 seconds\n",
    "#     #librosa.load(audio_path+wav_file, sr=44100) # resampling the frequency of the files to get similar datas\n",
    "#     mfcc = librosa.feature.mfcc(y=y, sr=sr,n_mfcc=13) # extracting 13 coefficents from MFCCs\n",
    "#     to_append = f'{wav_file}'    \n",
    "#     for e in mfcc:\n",
    "#         to_append += f' {np.mean(e)}' \n",
    "#     to_append += f' {name_lable}'\n",
    "#     file = open('data.csv', 'a', newline='')\n",
    "#     with file:\n",
    "#         writer = csv.writer(file)\n",
    "#         writer.writerow(to_append.split())\n",
    "#     print(\"ending file \",wav_file)\n",
    "# print(\"Done\")"
   ]
  },
  {
   "cell_type": "code",
   "execution_count": 104,
   "metadata": {},
   "outputs": [
    {
     "name": "stdout",
     "output_type": "stream",
     "text": [
      "Confusion Matrix :\n",
      "[[38 19]\n",
      " [20 26]]\n",
      "Accuracy Score : 0.6213592233009708\n",
      "Accuracy classification report for SVM: \n",
      "              precision    recall  f1-score   support\n",
      "\n",
      "           0       0.66      0.67      0.66        57\n",
      "           1       0.58      0.57      0.57        46\n",
      "\n",
      "   micro avg       0.62      0.62      0.62       103\n",
      "   macro avg       0.62      0.62      0.62       103\n",
      "weighted avg       0.62      0.62      0.62       103\n",
      "\n"
     ]
    }
   ],
   "source": [
    "actual = [0 ,1, 1, 0, 0, 1, 1, 1, 1, 0, 1, 1, 1, 1, 1, 0, 1, 1, 1, 0, 0, 0, 1, 1, 1, 1, 0, 0, 0, 0, 0, 0, 1, 0, 0, 1, 0,\n",
    " 0, 1, 0, 0, 0, 0, 0, 0, 1, 1, 1, 0, 1, 0, 1, 0, 1, 0, 0, 1, 0, 0, 0, 1, 1, 1, 0, 1, 0, 0, 0 ,1 ,1 ,0 ,0, 0, 1,\n",
    " 1, 0, 1, 0, 0, 0, 0, 0, 1, 1, 0, 0, 0, 0, 1, 1, 0, 1, 0, 0, 0, 0, 0, 0, 1, 1, 0, 1, 1]\n",
    "\n",
    "pred = [1, 1, 0, 0, 0, 0, 0, 1, 1, 0, 1, 1, 0, 1, 1, 0, 0, 1, 1, 1, 0, 0, 0, 1, 1, 0, 0, 0, 0, 0, 1, 0, 0, 0, 1, 1, 1,\n",
    " 0, 0, 0, 0, 0, 1, 0, 0, 1, 1, 1, 1, 0, 0, 1, 0, 0, 0, 1,0, 1, 1, 1, 0, 0, 1, 1, 1, 0 ,1 ,0 ,0, 1, 0, 0, 1, 1,\n",
    " 1, 0, 1, 0, 0, 0, 0, 1, 0, 0, 0, 0, 1, 0, 1, 1, 1, 0, 0, 1, 0, 0, 0, 1, 1, 0, 0, 0, 1]\n",
    "results = confusion_matrix(actual, pred) \n",
    "print ('Confusion Matrix :')\n",
    "print(results) \n",
    "print ('Accuracy Score :',accuracy_score(actual, pred))\n",
    "print ('Accuracy classification report for SVM: ')\n",
    "print (classification_report(actual, pred))"
   ]
  },
  {
   "cell_type": "code",
   "execution_count": 105,
   "metadata": {},
   "outputs": [
    {
     "name": "stdout",
     "output_type": "stream",
     "text": [
      "Confusion Matrix :\n",
      "[[54  3]\n",
      " [14 32]]\n",
      "Accuracy Score : 0.8349514563106796\n",
      "Accuracy classification report for Random forest: \n",
      "              precision    recall  f1-score   support\n",
      "\n",
      "           0       0.79      0.95      0.86        57\n",
      "           1       0.91      0.70      0.79        46\n",
      "\n",
      "   micro avg       0.83      0.83      0.83       103\n",
      "   macro avg       0.85      0.82      0.83       103\n",
      "weighted avg       0.85      0.83      0.83       103\n",
      "\n"
     ]
    }
   ],
   "source": [
    "actual = [0 ,1, 1, 0, 0, 1, 1, 1, 1, 0, 1, 1, 1, 1, 1, 0, 1, 1, 1, 0, 0, 0, 1, 1, 1, 1, 0, 0, 0, 0, 0, 0, 1, 0, 0, 1, 0,\n",
    " 0, 1, 0, 0, 0, 0, 0, 0, 1, 1, 1, 0, 1, 0, 1, 0, 1, 0, 0, 1, 0, 0, 0, 1, 1, 1, 0, 1, 0, 0, 0 ,1 ,1 ,0 ,0, 0, 1,\n",
    " 1, 0, 1, 0, 0, 0, 0, 0, 1, 1, 0, 0, 0, 0, 1, 1, 0, 1, 0, 0, 0, 0, 0, 0, 1, 1, 0, 1, 1]\n",
    "\n",
    "pred = [0, 1, 0, 0, 0, 1, 0, 1, 1, 0, 1, 1, 1, 1, 1, 0, 0, 1, 1, 0, 0, 0, 1, 1, 0, 1, 1, 0, 0, 0, 0, 0, 0, 0, 0, 1, 0,\n",
    " 0, 1, 0, 0, 0, 0, 0, 0, 1, 1, 1, 0, 0, 0, 1, 0, 0,0, 0, 1, 1, 0, 0, 0, 1, 1, 0, 1, 0, 0, 0, 0, 1, 0, 0, 0, 0,\n",
    " 1, 0, 1, 0, 0, 0, 0, 0, 0, 0, 0, 0, 0, 1, 1, 1, 0, 0, 0, 0, 0, 0, 0, 0, 1, 1, 0, 0, 1]\n",
    "results = confusion_matrix(actual, pred) \n",
    "print ('Confusion Matrix :')\n",
    "print(results) \n",
    "print ('Accuracy Score :',accuracy_score(actual, pred))\n",
    "print ('Accuracy classification report for Random forest: ')\n",
    "print (classification_report(actual, pred))"
   ]
  },
  {
   "cell_type": "code",
   "execution_count": null,
   "metadata": {},
   "outputs": [],
   "source": []
  }
 ],
 "metadata": {
  "kernelspec": {
   "display_name": "Python 3",
   "language": "python",
   "name": "python3"
  },
  "language_info": {
   "codemirror_mode": {
    "name": "ipython",
    "version": 3
   },
   "file_extension": ".py",
   "mimetype": "text/x-python",
   "name": "python",
   "nbconvert_exporter": "python",
   "pygments_lexer": "ipython3",
   "version": "3.7.3"
  }
 },
 "nbformat": 4,
 "nbformat_minor": 2
}
